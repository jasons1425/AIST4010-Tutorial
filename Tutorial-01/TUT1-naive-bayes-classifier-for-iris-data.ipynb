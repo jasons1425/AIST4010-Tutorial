{
 "cells": [
  {
   "cell_type": "code",
   "execution_count": 1,
   "id": "8f4b46a8",
   "metadata": {
    "_cell_guid": "b1076dfc-b9ad-4769-8c92-a6c4dae69d19",
    "_uuid": "8f2839f25d086af736a60e9eeb907d3b93b6e0e5",
    "execution": {
     "iopub.execute_input": "2022-01-13T07:55:55.204938Z",
     "iopub.status.busy": "2022-01-13T07:55:55.203960Z",
     "iopub.status.idle": "2022-01-13T07:55:55.216027Z",
     "shell.execute_reply": "2022-01-13T07:55:55.216560Z",
     "shell.execute_reply.started": "2022-01-13T07:53:53.476337Z"
    },
    "papermill": {
     "duration": 0.031369,
     "end_time": "2022-01-13T07:55:55.216926",
     "exception": false,
     "start_time": "2022-01-13T07:55:55.185557",
     "status": "completed"
    },
    "tags": []
   },
   "outputs": [
    {
     "name": "stdout",
     "output_type": "stream",
     "text": [
      "/kaggle/input/aist4010-spring2022-a0/sample_submission.csv\n",
      "/kaggle/input/aist4010-spring2022-a0/X_test.csv\n",
      "/kaggle/input/aist4010-spring2022-a0/y_train.csv\n",
      "/kaggle/input/aist4010-spring2022-a0/X_train.csv\n",
      "/kaggle/input/aist4010-spring2022-a0/iris_information.txt\n"
     ]
    }
   ],
   "source": [
    "# This Python 3 environment comes with many helpful analytics libraries installed\n",
    "# It is defined by the kaggle/python Docker image: https://github.com/kaggle/docker-python\n",
    "# For example, here's several helpful packages to load\n",
    "\n",
    "import numpy as np # linear algebra\n",
    "import pandas as pd # data processing, CSV file I/O (e.g. pd.read_csv)\n",
    "\n",
    "# Input data files are available in the read-only \"../input/\" directory\n",
    "# For example, running this (by clicking run or pressing Shift+Enter) will list all files under the input directory\n",
    "\n",
    "import os\n",
    "for dirname, _, filenames in os.walk('/kaggle/input'):\n",
    "    for filename in filenames:\n",
    "        print(os.path.join(dirname, filename))\n",
    "\n",
    "# You can write up to 20GB to the current directory (/kaggle/working/) that gets preserved as output when you create a version using \"Save & Run All\" \n",
    "# You can also write temporary files to /kaggle/temp/, but they won't be saved outside of the current session"
   ]
  },
  {
   "cell_type": "code",
   "execution_count": 2,
   "id": "9b699c31",
   "metadata": {
    "execution": {
     "iopub.execute_input": "2022-01-13T07:55:55.240075Z",
     "iopub.status.busy": "2022-01-13T07:55:55.239076Z",
     "iopub.status.idle": "2022-01-13T07:55:55.254031Z",
     "shell.execute_reply": "2022-01-13T07:55:55.254558Z",
     "shell.execute_reply.started": "2022-01-13T07:54:03.976951Z"
    },
    "papermill": {
     "duration": 0.028092,
     "end_time": "2022-01-13T07:55:55.254769",
     "exception": false,
     "start_time": "2022-01-13T07:55:55.226677",
     "status": "completed"
    },
    "tags": []
   },
   "outputs": [],
   "source": [
    "X_train = np.loadtxt(open(\"/kaggle/input/aist4010-spring2022-a0/X_train.csv\",\"rb\"), delimiter=\",\", skiprows=0)\n",
    "y_train = np.loadtxt(open(\"/kaggle/input/aist4010-spring2022-a0/y_train.csv\",\"rb\"), delimiter=\",\", skiprows=0)"
   ]
  },
  {
   "cell_type": "code",
   "execution_count": 3,
   "id": "0ea80181",
   "metadata": {
    "execution": {
     "iopub.execute_input": "2022-01-13T07:55:55.275575Z",
     "iopub.status.busy": "2022-01-13T07:55:55.274884Z",
     "iopub.status.idle": "2022-01-13T07:55:55.280827Z",
     "shell.execute_reply": "2022-01-13T07:55:55.281504Z",
     "shell.execute_reply.started": "2022-01-13T07:54:11.249123Z"
    },
    "papermill": {
     "duration": 0.01828,
     "end_time": "2022-01-13T07:55:55.281755",
     "exception": false,
     "start_time": "2022-01-13T07:55:55.263475",
     "status": "completed"
    },
    "tags": []
   },
   "outputs": [
    {
     "name": "stdout",
     "output_type": "stream",
     "text": [
      "X_train:\n",
      " [[7.7 2.6 6.9 2.3]\n",
      " [5.7 3.8 1.7 0.3]\n",
      " [5.  3.6 1.4 0.2]]\n",
      "y_train:\n",
      " [2. 0. 0.]\n"
     ]
    }
   ],
   "source": [
    "print('X_train:\\n', X_train[0:3])\n",
    "print('y_train:\\n', y_train[0:3])"
   ]
  },
  {
   "cell_type": "code",
   "execution_count": 4,
   "id": "b1789b07",
   "metadata": {
    "execution": {
     "iopub.execute_input": "2022-01-13T07:55:55.303610Z",
     "iopub.status.busy": "2022-01-13T07:55:55.302912Z",
     "iopub.status.idle": "2022-01-13T07:55:56.453275Z",
     "shell.execute_reply": "2022-01-13T07:55:56.453840Z",
     "shell.execute_reply.started": "2022-01-13T07:54:40.864747Z"
    },
    "papermill": {
     "duration": 1.162665,
     "end_time": "2022-01-13T07:55:56.454064",
     "exception": false,
     "start_time": "2022-01-13T07:55:55.291399",
     "status": "completed"
    },
    "tags": []
   },
   "outputs": [
    {
     "data": {
      "text/plain": [
       "GaussianNB()"
      ]
     },
     "execution_count": 4,
     "metadata": {},
     "output_type": "execute_result"
    }
   ],
   "source": [
    "from sklearn.naive_bayes import GaussianNB\n",
    "clf = GaussianNB()\n",
    "clf.fit(X_train, y_train)"
   ]
  },
  {
   "cell_type": "code",
   "execution_count": 5,
   "id": "2e764ea5",
   "metadata": {
    "execution": {
     "iopub.execute_input": "2022-01-13T07:55:56.479591Z",
     "iopub.status.busy": "2022-01-13T07:55:56.478836Z",
     "iopub.status.idle": "2022-01-13T07:55:56.487193Z",
     "shell.execute_reply": "2022-01-13T07:55:56.486490Z",
     "shell.execute_reply.started": "2022-01-13T07:54:44.296999Z"
    },
    "papermill": {
     "duration": 0.023496,
     "end_time": "2022-01-13T07:55:56.487370",
     "exception": false,
     "start_time": "2022-01-13T07:55:56.463874",
     "status": "completed"
    },
    "tags": []
   },
   "outputs": [],
   "source": [
    "X_test = np.loadtxt(open(\"/kaggle/input/aist4010-spring2022-a0/X_test.csv\",\"rb\"), delimiter=\",\", skiprows=0)\n",
    "y_pred = clf.predict(X_test)"
   ]
  },
  {
   "cell_type": "code",
   "execution_count": 6,
   "id": "8744a650",
   "metadata": {
    "execution": {
     "iopub.execute_input": "2022-01-13T07:55:56.515148Z",
     "iopub.status.busy": "2022-01-13T07:55:56.514140Z",
     "iopub.status.idle": "2022-01-13T07:55:56.517421Z",
     "shell.execute_reply": "2022-01-13T07:55:56.516753Z",
     "shell.execute_reply.started": "2022-01-13T07:55:05.057649Z"
    },
    "papermill": {
     "duration": 0.020956,
     "end_time": "2022-01-13T07:55:56.517595",
     "exception": false,
     "start_time": "2022-01-13T07:55:56.496639",
     "status": "completed"
    },
    "tags": []
   },
   "outputs": [],
   "source": [
    "import pandas as pd\n",
    "output = {'Predicted':y_pred}\n",
    "output_df = pd.DataFrame(output)"
   ]
  },
  {
   "cell_type": "code",
   "execution_count": 7,
   "id": "da29eb1d",
   "metadata": {
    "execution": {
     "iopub.execute_input": "2022-01-13T07:55:56.545594Z",
     "iopub.status.busy": "2022-01-13T07:55:56.539313Z",
     "iopub.status.idle": "2022-01-13T07:55:56.559495Z",
     "shell.execute_reply": "2022-01-13T07:55:56.558832Z",
     "shell.execute_reply.started": "2022-01-13T07:55:05.594589Z"
    },
    "papermill": {
     "duration": 0.032665,
     "end_time": "2022-01-13T07:55:56.559649",
     "exception": false,
     "start_time": "2022-01-13T07:55:56.526984",
     "status": "completed"
    },
    "tags": []
   },
   "outputs": [
    {
     "data": {
      "text/html": [
       "<div>\n",
       "<style scoped>\n",
       "    .dataframe tbody tr th:only-of-type {\n",
       "        vertical-align: middle;\n",
       "    }\n",
       "\n",
       "    .dataframe tbody tr th {\n",
       "        vertical-align: top;\n",
       "    }\n",
       "\n",
       "    .dataframe thead th {\n",
       "        text-align: right;\n",
       "    }\n",
       "</style>\n",
       "<table border=\"1\" class=\"dataframe\">\n",
       "  <thead>\n",
       "    <tr style=\"text-align: right;\">\n",
       "      <th></th>\n",
       "      <th>Predicted</th>\n",
       "    </tr>\n",
       "  </thead>\n",
       "  <tbody>\n",
       "    <tr>\n",
       "      <th>0</th>\n",
       "      <td>0.0</td>\n",
       "    </tr>\n",
       "    <tr>\n",
       "      <th>1</th>\n",
       "      <td>1.0</td>\n",
       "    </tr>\n",
       "    <tr>\n",
       "      <th>2</th>\n",
       "      <td>1.0</td>\n",
       "    </tr>\n",
       "  </tbody>\n",
       "</table>\n",
       "</div>"
      ],
      "text/plain": [
       "   Predicted\n",
       "0        0.0\n",
       "1        1.0\n",
       "2        1.0"
      ]
     },
     "execution_count": 7,
     "metadata": {},
     "output_type": "execute_result"
    }
   ],
   "source": [
    "output_df.head(3)"
   ]
  },
  {
   "cell_type": "code",
   "execution_count": 8,
   "id": "154cdb44",
   "metadata": {
    "execution": {
     "iopub.execute_input": "2022-01-13T07:55:56.586614Z",
     "iopub.status.busy": "2022-01-13T07:55:56.585571Z",
     "iopub.status.idle": "2022-01-13T07:55:56.591737Z",
     "shell.execute_reply": "2022-01-13T07:55:56.592255Z",
     "shell.execute_reply.started": "2022-01-13T07:55:16.903304Z"
    },
    "papermill": {
     "duration": 0.022195,
     "end_time": "2022-01-13T07:55:56.592494",
     "exception": false,
     "start_time": "2022-01-13T07:55:56.570299",
     "status": "completed"
    },
    "tags": []
   },
   "outputs": [],
   "source": [
    "output_df.to_csv('output.csv', index_label='Id')"
   ]
  }
 ],
 "metadata": {
  "kernelspec": {
   "display_name": "Python 3",
   "language": "python",
   "name": "python3"
  },
  "language_info": {
   "codemirror_mode": {
    "name": "ipython",
    "version": 3
   },
   "file_extension": ".py",
   "mimetype": "text/x-python",
   "name": "python",
   "nbconvert_exporter": "python",
   "pygments_lexer": "ipython3",
   "version": "3.7.12"
  },
  "papermill": {
   "default_parameters": {},
   "duration": 13.053835,
   "end_time": "2022-01-13T07:55:57.414466",
   "environment_variables": {},
   "exception": null,
   "input_path": "__notebook__.ipynb",
   "output_path": "__notebook__.ipynb",
   "parameters": {},
   "start_time": "2022-01-13T07:55:44.360631",
   "version": "2.3.3"
  }
 },
 "nbformat": 4,
 "nbformat_minor": 5
}

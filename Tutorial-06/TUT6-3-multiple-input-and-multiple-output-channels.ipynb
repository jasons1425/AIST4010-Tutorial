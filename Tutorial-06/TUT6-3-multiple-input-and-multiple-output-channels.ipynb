{
  "cells": [
    {
      "cell_type": "markdown",
      "metadata": {
        "origin_pos": 0,
        "id": "XoJdUXNDEd8P"
      },
      "source": [
        "# Multiple Input and Multiple Output Channels\n",
        "\n",
        "When we add channels into the mix,\n",
        "our inputs and hidden representations\n",
        "both become three-dimensional tensors.\n",
        "For example, each RGB input image has shape $3\\times h\\times w$.\n",
        "We refer to this axis, with a size of 3, as the *channel* dimension.\n",
        "We will take a deeper look\n",
        "at convolution kernels with multiple input and multiple output channels.\n",
        "\n",
        "## Multiple Input Channels\n",
        "\n",
        "When the input data contain multiple channels,\n",
        "we need to construct a convolution kernel\n",
        "with the same number of input channels as the input data,\n",
        "so that it can perform cross-correlation with the input data.\n",
        "\n",
        "Assuming that the number of channels for the input data is $c_i$,\n",
        "the number of input channels of the convolution kernel also needs to be $c_i$. If our convolution kernel's window shape is $k_h\\times k_w$,\n",
        "then when $c_i=1$, we can think of our convolution kernel\n",
        "as just a two-dimensional tensor of shape $k_h\\times k_w$.\n",
        "\n",
        "However, when $c_i>1$, we need a kernel\n",
        "that contains a tensor of shape $k_h\\times k_w$ for *every* input channel. Concatenating these $c_i$ tensors together\n",
        "yields a convolution kernel of shape $c_i\\times k_h\\times k_w$.\n",
        "\n",
        "Since the input and convolution kernel each have $c_i$ channels,\n",
        "we can perform a cross-correlation operation\n",
        "on the two-dimensional tensor of the input\n",
        "and the two-dimensional tensor of the convolution kernel\n",
        "for each channel, adding the $c_i$ results together\n",
        "(summing over the channels)\n",
        "to yield a two-dimensional tensor.\n",
        "\n",
        "This is the result of a two-dimensional cross-correlation\n",
        "between a multi-channel input and\n",
        "a multi-input-channel convolution kernel.\n",
        "\n",
        "The shaded portions are the first output element\n",
        "as well as the input and kernel tensor elements used for the output computation:\n",
        "$(1\\times1+2\\times2+4\\times3+5\\times4)+(0\\times0+1\\times1+3\\times2+4\\times3)=56$.\n",
        "\n",
        "![Cross-correlation computation with 2 input channels.](https://github.com/d2l-ai/d2l-pytorch-colab/blob/master/img/conv-multi-in.svg?raw=1)\n",
        "\n",
        "We can (**implement cross-correlation operations with multiple input channels**) ourselves.\n",
        "Notice that all we are doing is performing one cross-correlation operation\n",
        "per channel and then adding up the results.\n"
      ]
    },
    {
      "cell_type": "code",
      "execution_count": 2,
      "metadata": {
        "origin_pos": 2,
        "tab": [
          "pytorch"
        ],
        "id": "fJNTes7oEd8Q"
      },
      "outputs": [],
      "source": [
        "import torch\n",
        "def corr2d(X, K):\n",
        "    \"\"\"Compute 2D cross-correlation.\"\"\"\n",
        "    h, w = K.shape\n",
        "    Y = torch.zeros((X.shape[0] - h + 1, X.shape[1] - w + 1))\n",
        "    for i in range(Y.shape[0]):\n",
        "        for j in range(Y.shape[1]):\n",
        "            Y[i, j] = (X[i:i + h, j:j + w] * K).sum()\n",
        "    return Y"
      ]
    },
    {
      "cell_type": "code",
      "execution_count": 3,
      "metadata": {
        "origin_pos": 3,
        "tab": [
          "pytorch"
        ],
        "id": "-2cZnVuvEd8Q"
      },
      "outputs": [],
      "source": [
        "def corr2d_multi_in(X, K):\n",
        "    # First, iterate through the 0th dimension (channel dimension) of `X` and\n",
        "    # `K`. Then, add them together\n",
        "    return sum(corr2d(x, k) for x, k in zip(X, K))"
      ]
    },
    {
      "cell_type": "markdown",
      "metadata": {
        "origin_pos": 5,
        "id": "k9c-MC8BEd8Q"
      },
      "source": [
        "We can construct the input tensor `X` and the kernel tensor `K`\n",
        "corresponding to the values in the image above\n",
        "to (**validate the output**) of the cross-correlation operation.\n"
      ]
    },
    {
      "cell_type": "code",
      "execution_count": 7,
      "metadata": {
        "origin_pos": 6,
        "tab": [
          "pytorch"
        ],
        "id": "91CO5EwdEd8R",
        "outputId": "7c20bc0a-16c1-431e-a257-cd8ec271053b",
        "colab": {
          "base_uri": "https://localhost:8080/"
        }
      },
      "outputs": [
        {
          "output_type": "execute_result",
          "data": {
            "text/plain": [
              "tensor([[ 56.,  72.],\n",
              "        [104., 120.]])"
            ]
          },
          "metadata": {},
          "execution_count": 7
        }
      ],
      "source": [
        "X = torch.tensor([[[0.0, 1.0, 2.0], [3.0, 4.0, 5.0], [6.0, 7.0, 8.0]],\n",
        "               [[1.0, 2.0, 3.0], [4.0, 5.0, 6.0], [7.0, 8.0, 9.0]]])\n",
        "K = torch.tensor([[[0.0, 1.0], [2.0, 3.0]], [[1.0, 2.0], [3.0, 4.0]]])\n",
        "\n",
        "corr2d_multi_in(X, K)"
      ]
    },
    {
      "cell_type": "markdown",
      "metadata": {
        "origin_pos": 7,
        "id": "_UC2q-IkEd8S"
      },
      "source": [
        "## Multiple Output Channels\n",
        "So far we always ended up with one output channel.\n",
        "\n",
        "But in the most popular neural network architectures,\n",
        "we actually increase the channel dimension\n",
        "as we go higher up in the neural network,\n",
        "typically downsampling to trade off spatial resolution\n",
        "for greater *channel depth*.\n",
        "\n",
        "Intuitively, you could think of each channel\n",
        "as responding to some different set of features.\n",
        "Reality is a bit more complicated than the most naive interpretations of this intuition since representations are not learned independent but are rather optimized to be jointly useful.\n",
        "So it may not be that a single channel learns an edge detector but rather that some direction in channel space corresponds to detecting edges.\n",
        "\n",
        "Denote by $c_i$ and $c_o$ the number\n",
        "of input and output channels, respectively,\n",
        "and let $k_h$ and $k_w$ be the height and width of the kernel.\n",
        "\n",
        "To get an output with multiple channels,\n",
        "we can create a kernel tensor\n",
        "of shape $c_i\\times k_h\\times k_w$\n",
        "for *every* output channel.\n",
        "\n",
        "Then we concatenate them on the output channel dimension,\n",
        "so that the shape of the convolution kernel\n",
        "is $c_o\\times c_i\\times k_h\\times k_w$.\n",
        "In cross-correlation operations,\n",
        "the result on each output channel is calculated\n",
        "from the convolution kernel corresponding to that output channel\n",
        "and takes input from all channels in the input tensor.\n",
        "\n",
        "We implement a cross-correlation function\n",
        "to [**calculate the output of multiple channels**] as shown below.\n"
      ]
    },
    {
      "cell_type": "code",
      "execution_count": 5,
      "metadata": {
        "origin_pos": 8,
        "tab": [
          "pytorch"
        ],
        "id": "g9B2255_Ed8S"
      },
      "outputs": [],
      "source": [
        "def corr2d_multi_in_out(X, K):\n",
        "    # Iterate through the 0th dimension of `K`, and each time, perform\n",
        "    # cross-correlation operations with input `X`. All of the results are\n",
        "    # stacked together\n",
        "    return torch.stack([corr2d_multi_in(X, k) for k in K], 0)"
      ]
    },
    {
      "cell_type": "markdown",
      "metadata": {
        "origin_pos": 9,
        "id": "eYGIBqGxEd8T"
      },
      "source": [
        "We construct a convolution kernel with 3 output channels\n",
        "by concatenating the kernel tensor `K` with `K+1`\n",
        "(plus one for each element in `K`) and `K+2`.\n"
      ]
    },
    {
      "cell_type": "code",
      "source": [
        "print(f'K: {K.shape}\\n{K}')\n",
        "print('K+1:\\n', K+1)\n",
        "print('K+2:\\n', K+2)"
      ],
      "metadata": {
        "colab": {
          "base_uri": "https://localhost:8080/"
        },
        "id": "vBKaXAK6H6Or",
        "outputId": "fa6150b4-0ea9-406f-a70d-85109986b0bb"
      },
      "execution_count": 16,
      "outputs": [
        {
          "output_type": "stream",
          "name": "stdout",
          "text": [
            "K:torch.Size([2, 2, 2])\n",
            "tensor([[[0., 1.],\n",
            "         [2., 3.]],\n",
            "\n",
            "        [[1., 2.],\n",
            "         [3., 4.]]])\n",
            "K+1:\n",
            " tensor([[[1., 2.],\n",
            "         [3., 4.]],\n",
            "\n",
            "        [[2., 3.],\n",
            "         [4., 5.]]])\n",
            "K+2:\n",
            " tensor([[[2., 3.],\n",
            "         [4., 5.]],\n",
            "\n",
            "        [[3., 4.],\n",
            "         [5., 6.]]])\n"
          ]
        }
      ]
    },
    {
      "cell_type": "code",
      "execution_count": 17,
      "metadata": {
        "origin_pos": 10,
        "tab": [
          "pytorch"
        ],
        "id": "83lykl3NEd8T",
        "outputId": "8e3bcf69-a37c-4e2e-be5c-19e1142a4c28",
        "colab": {
          "base_uri": "https://localhost:8080/"
        }
      },
      "outputs": [
        {
          "output_type": "stream",
          "name": "stdout",
          "text": [
            "K:torch.Size([3, 2, 2, 2])\n",
            "tensor([[[[0., 1.],\n",
            "          [2., 3.]],\n",
            "\n",
            "         [[1., 2.],\n",
            "          [3., 4.]]],\n",
            "\n",
            "\n",
            "        [[[1., 2.],\n",
            "          [3., 4.]],\n",
            "\n",
            "         [[2., 3.],\n",
            "          [4., 5.]]],\n",
            "\n",
            "\n",
            "        [[[2., 3.],\n",
            "          [4., 5.]],\n",
            "\n",
            "         [[3., 4.],\n",
            "          [5., 6.]]]])\n"
          ]
        }
      ],
      "source": [
        "K = torch.stack((K, K + 1, K + 2), 0)\n",
        "print(f'K: {K.shape}\\n{K}')"
      ]
    },
    {
      "cell_type": "markdown",
      "metadata": {
        "origin_pos": 11,
        "id": "B0wNK5RgEd8U"
      },
      "source": [
        "Below, we perform cross-correlation operations\n",
        "on the input tensor `X` with the kernel tensor `K`.\n",
        "Now the output contains 3 channels.\n",
        "The result of the first channel is consistent\n",
        "with the result of the previous input tensor `X`\n",
        "and the multi-input channel,\n",
        "single-output channel kernel.\n"
      ]
    },
    {
      "cell_type": "code",
      "execution_count": 18,
      "metadata": {
        "origin_pos": 12,
        "tab": [
          "pytorch"
        ],
        "id": "oXPkZ_RSEd8U",
        "outputId": "5ee401d6-c9a2-4f1b-c1f1-c4e195d1bd5a",
        "colab": {
          "base_uri": "https://localhost:8080/"
        }
      },
      "outputs": [
        {
          "output_type": "execute_result",
          "data": {
            "text/plain": [
              "tensor([[[ 56.,  72.],\n",
              "         [104., 120.]],\n",
              "\n",
              "        [[ 76., 100.],\n",
              "         [148., 172.]],\n",
              "\n",
              "        [[ 96., 128.],\n",
              "         [192., 224.]]])"
            ]
          },
          "metadata": {},
          "execution_count": 18
        }
      ],
      "source": [
        "corr2d_multi_in_out(X, K)"
      ]
    },
    {
      "cell_type": "markdown",
      "metadata": {
        "origin_pos": 13,
        "id": "zysV1YBTEd8U"
      },
      "source": [
        "## $1\\times 1$ Convolutional Layer\n",
        "\n",
        "At first, a [**$1 \\times 1$ convolution**], i.e., $k_h = k_w = 1$,\n",
        "does not seem to make much sense.\n",
        "After all, a convolution correlates adjacent pixels.\n",
        "A $1 \\times 1$ convolution obviously does not.\n",
        "Nonetheless, they are popular operations that are sometimes included\n",
        "in the designs of complex deep networks.\n",
        "Let us see in some detail what it actually does.\n",
        "\n",
        "The only computation of the $1\\times 1$ convolution occurs\n",
        "on the channel dimension.\n",
        "\n",
        "The image shows the cross-correlation computation\n",
        "using the $1\\times 1$ convolution kernel\n",
        "with 3 input channels and 2 output channels.\n",
        "\n",
        "Each element in the output is derived\n",
        "from a linear combination of elements *at the same position*\n",
        "in the input image.\n",
        "\n",
        "You could think of the $1\\times 1$ convolutional layer\n",
        "as constituting a fully-connected layer applied at every single pixel location\n",
        "to transform the $c_i$ corresponding input values into $c_o$ output values.\n",
        "Because this is still a convolutional layer,\n",
        "the weights are tied across pixel location.\n",
        "Thus the $1\\times 1$ convolutional layer requires $c_o\\times c_i$ weights\n",
        "(plus the bias).\n",
        "\n",
        "\n",
        "![The cross-correlation computation uses the $1\\times 1$ convolution kernel with 3 input channels and 2 output channels. The input and output have the same height and width.](https://github.com/d2l-ai/d2l-pytorch-colab/blob/master/img/conv-1x1.svg?raw=1)\n",
        "\n",
        "Let us check whether this works in practice:\n",
        "we implement a $1 \\times 1$ convolution\n",
        "using a fully-connected layer.\n",
        "The only thing is that we need to make some adjustments\n",
        "to the data shape before and after the matrix multiplication.\n"
      ]
    },
    {
      "cell_type": "code",
      "execution_count": 22,
      "metadata": {
        "origin_pos": 14,
        "tab": [
          "pytorch"
        ],
        "id": "oQl_hJOkEd8U"
      },
      "outputs": [],
      "source": [
        "def corr2d_multi_in_out_1x1(X, K):\n",
        "    c_i, h, w = X.shape\n",
        "    c_o = K.shape[0]\n",
        "    X = X.reshape((c_i, h * w))\n",
        "    print('X.shape: ', X.shape)\n",
        "    K = K.reshape((c_o, c_i))\n",
        "    print('K.shape: ', K.shape)\n",
        "    # Matrix multiplication in the fully-connected layer\n",
        "    Y = torch.matmul(K, X)\n",
        "    return Y.reshape((c_o, h, w))"
      ]
    },
    {
      "cell_type": "markdown",
      "metadata": {
        "origin_pos": 15,
        "id": "nMuatcVrEd8U"
      },
      "source": [
        "When performing $1\\times 1$ convolution,\n",
        "the above function is equivalent to the previously implemented cross-correlation function `corr2d_multi_in_out`.\n",
        "Let us check this with some sample data.\n"
      ]
    },
    {
      "cell_type": "code",
      "execution_count": 23,
      "metadata": {
        "origin_pos": 16,
        "tab": [
          "pytorch"
        ],
        "id": "bKHjetthEd8U"
      },
      "outputs": [],
      "source": [
        "X = torch.normal(0, 1, (3, 3, 3))\n",
        "K = torch.normal(0, 1, (2, 3, 1, 1))"
      ]
    },
    {
      "cell_type": "code",
      "execution_count": 24,
      "metadata": {
        "origin_pos": 18,
        "tab": [
          "pytorch"
        ],
        "id": "JIYnRxIhEd8V",
        "colab": {
          "base_uri": "https://localhost:8080/"
        },
        "outputId": "72454aa5-3717-4e9b-e08e-afc0475383e9"
      },
      "outputs": [
        {
          "output_type": "stream",
          "name": "stdout",
          "text": [
            "X.shape:  torch.Size([3, 9])\n",
            "K.shape:  torch.Size([2, 3])\n"
          ]
        }
      ],
      "source": [
        "Y1 = corr2d_multi_in_out_1x1(X, K)\n",
        "Y2 = corr2d_multi_in_out(X, K)\n",
        "assert float(torch.abs(Y1 - Y2).sum()) < 1e-6"
      ]
    }
  ],
  "metadata": {
    "kernelspec": {
      "display_name": "Python 3",
      "name": "python3"
    },
    "language_info": {
      "name": "python"
    },
    "colab": {
      "name": "TUT6-3-channels.ipynb",
      "provenance": [],
      "collapsed_sections": []
    }
  },
  "nbformat": 4,
  "nbformat_minor": 0
}